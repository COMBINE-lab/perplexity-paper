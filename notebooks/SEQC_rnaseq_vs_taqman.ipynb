{
 "cells": [
  {
   "cell_type": "code",
   "execution_count": null,
   "metadata": {},
   "outputs": [],
   "source": [
    "import pandas as pd\n",
    "import seaborn as sns\n",
    "import numpy as np\n",
    "import matplotlib.pyplot as plt\n",
    "import yaml\n",
    "from scipy.stats import spearmanr, pearsonr\n",
    "from sklearn.metrics import precision_recall_curve, roc_curve, average_precision_score, roc_auc_score\n",
    "\n",
    "%matplotlib inline"
   ]
  },
  {
   "cell_type": "code",
   "execution_count": null,
   "metadata": {},
   "outputs": [],
   "source": [
    "tpm_fmt = '../seqc/output/seqc-bgi/gene_quants/{sample}/vbprior={vb_prior}/{fold}/gene_quants.sf'\n",
    "SAMPLES = [\n",
    "    'BGI_FC1_A_1',\n",
    "    'BGI_FC1_A_2',\n",
    "    'BGI_FC1_A_3',\n",
    "    'BGI_FC1_A_4',\n",
    "    'BGI_FC1_B_1',\n",
    "    'BGI_FC1_B_2',\n",
    "    'BGI_FC1_B_3',\n",
    "    'BGI_FC1_B_4',\n",
    "    'BGI_FC1_C_1',\n",
    "    'BGI_FC1_C_2',\n",
    "    'BGI_FC1_C_3',\n",
    "    'BGI_FC1_C_4',\n",
    "    'BGI_FC1_D_1',\n",
    "    'BGI_FC1_D_2',\n",
    "    'BGI_FC1_D_3',\n",
    "    'BGI_FC1_D_4' ]\n",
    "VB_PRIORS = '1e-6 1e-5 1e-4 1e-3 1e-2 1e-1 1e0 2 3 4 5 6 7 8 9 1e1 1e2'.split()\n"
   ]
  },
  {
   "cell_type": "code",
   "execution_count": null,
   "metadata": {},
   "outputs": [],
   "source": [
    "taqman_fp ='../seqc/data/seqc_taqman_data.tsv'\n",
    "taqman_df = pd.read_csv(taqman_fp, sep='\\t')\n",
    "taqman_df.head()"
   ]
  },
  {
   "cell_type": "code",
   "execution_count": null,
   "metadata": {},
   "outputs": [],
   "source": [
    "len(set(taqman_df['ensembl_gene_id']))"
   ]
  },
  {
   "cell_type": "code",
   "execution_count": null,
   "metadata": {},
   "outputs": [],
   "source": [
    "len(set(taqman_df['EntrezID']))"
   ]
  },
  {
   "cell_type": "code",
   "execution_count": null,
   "metadata": {},
   "outputs": [],
   "source": [
    "del taqman_df['EntrezID']\n",
    "del taqman_df['Symbol']"
   ]
  },
  {
   "cell_type": "code",
   "execution_count": null,
   "metadata": {},
   "outputs": [],
   "source": [
    "taqman_df = taqman_df.groupby('ensembl_gene_id').mean().reset_index()"
   ]
  },
  {
   "cell_type": "code",
   "execution_count": null,
   "metadata": {},
   "outputs": [],
   "source": [
    "taqman_df = taqman_df.sort_values(by='ensembl_gene_id').set_index('ensembl_gene_id')"
   ]
  },
  {
   "cell_type": "code",
   "execution_count": null,
   "metadata": {},
   "outputs": [],
   "source": [
    "taqman_df"
   ]
  },
  {
   "cell_type": "code",
   "execution_count": null,
   "metadata": {},
   "outputs": [],
   "source": [
    "taqman_genes = set(taqman_df.index)\n",
    "\n",
    "quant_fp = '../seqc/output/seqc-bgi/gene_quants/BGI_FC1_{cond}_{rep}/vbprior={vb_prior}/{fold}/gene_quant.sf'\n",
    "def strip_ensembl_ver(name):\n",
    "    return name.split('.')[0]\n",
    "\n",
    "def quant_data(vb_prior, fold):\n",
    "    all_df = pd.DataFrame()\n",
    "    for cond in ['A', 'B', 'C', 'D']:\n",
    "        for rep in range(1,5):\n",
    "            df = pd.read_csv(quant_fp.format(cond=cond, rep=rep, vb_prior=vb_prior, fold=fold), sep='\\t',\n",
    "                            index_col=None, usecols=['abundance']).reset_index()\n",
    "            df['index'] = df['index'].apply(strip_ensembl_ver)\n",
    "            df = df[df['index'].isin(taqman_genes)]\n",
    "            all_df['index'] = df['index']\n",
    "            all_df['{}{}'.format(cond, rep)] =  df['abundance']\n",
    "    all_df = all_df.sort_values(by='index').set_index('index')\n",
    "    return all_df\n",
    "quant_data('1e0', 1)"
   ]
  },
  {
   "cell_type": "code",
   "execution_count": null,
   "metadata": {},
   "outputs": [],
   "source": [
    "def arr_spearman(A, B):\n",
    "    return spearmanr(A, B).correlation\n",
    "\n",
    "def spearman_corrs(df1, df2):\n",
    "    assert(df1.values.shape == df2.values.shape)\n",
    "    \n",
    "    spearmans = [arr_spearman(df1.values[:, i], df2.values[:, i]) for i in range(df1.shape[1])]\n",
    "    return spearmans\n",
    "\n",
    "def calc_spearman_corrs(taqman_df, VB_PRIORS=VB_PRIORS):\n",
    "    df = pd.DataFrame()\n",
    "    for vb_prior in VB_PRIORS:\n",
    "        for fold in range(1, 6):\n",
    "            quants = quant_data(vb_prior, fold)\n",
    "            \n",
    "            spearmans = spearman_corrs(taqman_df, quants)\n",
    "            N = len(spearmans)\n",
    "            df = df.append(pd.DataFrame(dict(Spearman_r=spearmans, \n",
    "                           vb_prior=[vb_prior] * N,\n",
    "                           fold=[fold] *N,\n",
    "                           cond=['A']*4 + ['B'] * 4 + ['C'] * 4 + ['D'] * 4)), ignore_index=True)\n",
    "    return df\n",
    "            \n",
    "    \n",
    "spearman_df = calc_spearman_corrs(taqman_df, VB_PRIORS)"
   ]
  },
  {
   "cell_type": "code",
   "execution_count": null,
   "metadata": {},
   "outputs": [],
   "source": [
    "spearman_df.vb_prior = spearman_df.vb_prior.astype(float)"
   ]
  },
  {
   "cell_type": "code",
   "execution_count": null,
   "metadata": {},
   "outputs": [],
   "source": [
    "# ax = sns.violinplot(x=\"vb_prior\", y=\"Spearman_r\", data=spearman_df, inner=None, hue=\"cond\")\n",
    "# ax = sns.swarmplot(x=\"vb_prior\", y=\"Spearman_r\", data=spearman_df,\n",
    "#                    color=\"white\", edgecolor=\"gray\", dodge=True, s=1, hue=\"cond\")\n",
    "# ax.set_title('SEQC Spearman Corr. vs. Microarray')"
   ]
  },
  {
   "cell_type": "code",
   "execution_count": null,
   "metadata": {},
   "outputs": [],
   "source": [
    "mean_fold_df = spearman_df.groupby(['cond', 'vb_prior', 'fold']).mean().reset_index()"
   ]
  },
  {
   "cell_type": "code",
   "execution_count": null,
   "metadata": {},
   "outputs": [],
   "source": [
    "mean_fold_df"
   ]
  },
  {
   "cell_type": "code",
   "execution_count": null,
   "metadata": {},
   "outputs": [],
   "source": [
    "for cond in 'A B C D'.split():\n",
    "    fig, ax = plt.subplots(1, 1, figsize=(10, 7))\n",
    "#     ax.ticklabel_format(axis='x', style='sci', sci)\n",
    "    ax = sns.violinplot(x=\"vb_prior\", y=\"Spearman_r\", data=mean_fold_df[mean_fold_df.cond == cond], inner=None, ax=ax)\n",
    "    ax = sns.swarmplot(x=\"vb_prior\", y=\"Spearman_r\", data=mean_fold_df[mean_fold_df.cond == cond],\n",
    "                       color=\"white\", edgecolor=\"gray\", dodge=True, s=3, ax=ax)\n",
    "    ax.set_title('Spearman Corr. of RNASeq estimates vs. Microarray ({})'.format(cond), fontsize=20)\n",
    "        \n",
    "    ax.set_ylabel('Spearman Correlation', fontsize=20)\n",
    "    ax.set_xlabel('VBEM prior size', fontsize=20)\n",
    "    ax.tick_params(axis='both', which='major', labelsize=12)\n",
    "    ax.set_xticklabels('1e-6 1e-5 1e-4 1e-3 1e-2 1e-1 1 2 3 4 5 6 7 8 9 1e1 1e2'.split())\n",
    "    plt.show()\n",
    "    "
   ]
  },
  {
   "cell_type": "code",
   "execution_count": null,
   "metadata": {},
   "outputs": [],
   "source": []
  },
  {
   "cell_type": "code",
   "execution_count": null,
   "metadata": {},
   "outputs": [],
   "source": [
    "mean_df = spearman_df.groupby(['cond', 'vb_prior']).mean().reset_index()"
   ]
  },
  {
   "cell_type": "code",
   "execution_count": null,
   "metadata": {},
   "outputs": [],
   "source": [
    "for cond in 'A B C D'.split():\n",
    "    fig, ax = plt.subplots(1, 1, figsize=(10, 7))\n",
    "    ax = sns.boxplot(x=\"vb_prior\", y=\"Spearman_r\", data=mean_fold_df[mean_fold_df.cond == cond])\n",
    "    ax = sns.swarmplot(x=\"vb_prior\", y=\"Spearman_r\", data=mean_fold_df[mean_fold_df.cond == cond],\n",
    "                       color=\"white\", edgecolor=\"gray\", dodge=True, s=1)\n",
    "    ax.set_title('SEQC Spearman Corr. vs. Microarray ({})'.format(cond))\n",
    "    ax.set_ylabel('Spearman Correlation', fontsize=20)\n",
    "    ax.set_xlabel('VBEM prior size', fontsize=20)\n",
    "    ax.tick_params(axis='both', which='major', labelsize=12)\n",
    "    ax.set_xticklabels('1e-6 1e-5 1e-4 1e-3 1e-2 1e-1 1 2 3 4 5 6 7 8 9 1e1 1e2'.split())\n",
    "    plt.show()"
   ]
  },
  {
   "cell_type": "code",
   "execution_count": null,
   "metadata": {},
   "outputs": [],
   "source": []
  },
  {
   "cell_type": "code",
   "execution_count": null,
   "metadata": {},
   "outputs": [],
   "source": []
  },
  {
   "cell_type": "code",
   "execution_count": null,
   "metadata": {},
   "outputs": [],
   "source": []
  }
 ],
 "metadata": {
  "kernelspec": {
   "display_name": "Python 3",
   "language": "python",
   "name": "python3"
  },
  "language_info": {
   "codemirror_mode": {
    "name": "ipython",
    "version": 3
   },
   "file_extension": ".py",
   "mimetype": "text/x-python",
   "name": "python",
   "nbconvert_exporter": "python",
   "pygments_lexer": "ipython3",
   "version": "3.7.8"
  }
 },
 "nbformat": 4,
 "nbformat_minor": 4
}
